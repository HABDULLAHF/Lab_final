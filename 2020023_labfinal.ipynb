{
 "cells": [
  {
   "cell_type": "code",
   "execution_count": 91,
   "id": "aa96f1fe",
   "metadata": {},
   "outputs": [],
   "source": [
    "import pandas as pd\n",
    "import numpy as np\n",
    "from sklearn.model_selection import train_test_split\n",
    "from sklearn.feature_extraction.text import CountVectorizer, TfidfVectorizer\n",
    "from sklearn.tree import DecisionTreeClassifier\n",
    "from sklearn.ensemble import RandomForestClassifier\n",
    "from sklearn.neighbors import KNeighborsClassifier\n",
    "from sklearn.naive_bayes import MultinomialNB\n",
    "from sklearn.cluster import KMeans\n",
    "from sklearn import metrics"
   ]
  },
  {
   "cell_type": "code",
   "execution_count": 1,
   "id": "2dc1bc95",
   "metadata": {
    "_cell_guid": "b1076dfc-b9ad-4769-8c92-a6c4dae69d19",
    "_uuid": "8f2839f25d086af736a60e9eeb907d3b93b6e0e5",
    "execution": {
     "iopub.execute_input": "2023-02-25T09:16:10.289413Z",
     "iopub.status.busy": "2023-02-25T09:16:10.288547Z",
     "iopub.status.idle": "2023-02-25T09:16:10.310005Z",
     "shell.execute_reply": "2023-02-25T09:16:10.308593Z"
    },
    "papermill": {
     "duration": 0.04421,
     "end_time": "2023-02-25T09:16:10.313473",
     "exception": false,
     "start_time": "2023-02-25T09:16:10.269263",
     "status": "completed"
    },
    "tags": []
   },
   "outputs": [
    {
     "name": "stdout",
     "output_type": "stream",
     "text": [
      "/Users/student/Desktop/2020023_Final/.DS_Store\n",
      "/Users/student/Desktop/2020023_Final/chatgpt1.csv\n",
      "/Users/student/Desktop/2020023_Final/Untitled.ipynb\n",
      "/Users/student/Desktop/2020023_Final/2020023_final.ipynb\n",
      "/Users/student/Desktop/2020023_Final/2020023.ipynb\n",
      "/Users/student/Desktop/2020023_Final/.ipynb_checkpoints/2020023-checkpoint.ipynb\n",
      "/Users/student/Desktop/2020023_Final/.ipynb_checkpoints/Untitled-checkpoint.ipynb\n"
     ]
    }
   ],
   "source": [
    "import os\n",
    "for dirname, _, filenames in os.walk('/Users/student/Desktop/2020023_Final'):\n",
    "    for filename in filenames:\n",
    "        print(os.path.join(dirname, filename))"
   ]
  },
  {
   "cell_type": "code",
   "execution_count": 2,
   "id": "569b94ab",
   "metadata": {
    "execution": {
     "iopub.execute_input": "2023-02-25T09:16:10.350278Z",
     "iopub.status.busy": "2023-02-25T09:16:10.349589Z",
     "iopub.status.idle": "2023-02-25T09:16:11.518345Z",
     "shell.execute_reply": "2023-02-25T09:16:11.517032Z"
    },
    "papermill": {
     "duration": 1.190364,
     "end_time": "2023-02-25T09:16:11.521118",
     "exception": false,
     "start_time": "2023-02-25T09:16:10.330754",
     "status": "completed"
    },
    "tags": []
   },
   "outputs": [],
   "source": [
    "df = pd.read_csv('/Users/student/Desktop/2020023_Final/chatgpt1.csv')"
   ]
  },
  {
   "cell_type": "code",
   "execution_count": 3,
   "id": "a1d3716f",
   "metadata": {
    "execution": {
     "iopub.execute_input": "2023-02-25T09:16:11.556445Z",
     "iopub.status.busy": "2023-02-25T09:16:11.556037Z",
     "iopub.status.idle": "2023-02-25T09:16:11.594365Z",
     "shell.execute_reply": "2023-02-25T09:16:11.592978Z"
    },
    "papermill": {
     "duration": 0.060063,
     "end_time": "2023-02-25T09:16:11.597099",
     "exception": false,
     "start_time": "2023-02-25T09:16:11.537036",
     "status": "completed"
    },
    "tags": []
   },
   "outputs": [
    {
     "data": {
      "text/html": [
       "<div>\n",
       "<style scoped>\n",
       "    .dataframe tbody tr th:only-of-type {\n",
       "        vertical-align: middle;\n",
       "    }\n",
       "\n",
       "    .dataframe tbody tr th {\n",
       "        vertical-align: top;\n",
       "    }\n",
       "\n",
       "    .dataframe thead th {\n",
       "        text-align: right;\n",
       "    }\n",
       "</style>\n",
       "<table border=\"1\" class=\"dataframe\">\n",
       "  <thead>\n",
       "    <tr style=\"text-align: right;\">\n",
       "      <th></th>\n",
       "      <th>Datetime</th>\n",
       "      <th>Tweet Id</th>\n",
       "      <th>Text</th>\n",
       "      <th>Username</th>\n",
       "      <th>Permalink</th>\n",
       "      <th>User</th>\n",
       "      <th>Outlinks</th>\n",
       "      <th>CountLinks</th>\n",
       "      <th>ReplyCount</th>\n",
       "      <th>RetweetCount</th>\n",
       "      <th>LikeCount</th>\n",
       "      <th>QuoteCount</th>\n",
       "      <th>ConversationId</th>\n",
       "      <th>Language</th>\n",
       "      <th>Source</th>\n",
       "      <th>Media</th>\n",
       "      <th>QuotedTweet</th>\n",
       "      <th>MentionedUsers</th>\n",
       "      <th>hashtag</th>\n",
       "      <th>hastag_counts</th>\n",
       "    </tr>\n",
       "  </thead>\n",
       "  <tbody>\n",
       "    <tr>\n",
       "      <th>0</th>\n",
       "      <td>2023-01-22 13:44:34+00:00</td>\n",
       "      <td>1617156270871699456</td>\n",
       "      <td>ChatGPTで遊ぶの忘れてた！！\\n書類作るコード書いてみてほしいのと、\\nどこまで思考整...</td>\n",
       "      <td>mochico0123</td>\n",
       "      <td>https://twitter.com/mochico0123/status/1617156...</td>\n",
       "      <td>https://twitter.com/mochico0123</td>\n",
       "      <td>NaN</td>\n",
       "      <td>NaN</td>\n",
       "      <td>1</td>\n",
       "      <td>0</td>\n",
       "      <td>5</td>\n",
       "      <td>0</td>\n",
       "      <td>1617156270871699456</td>\n",
       "      <td>ja</td>\n",
       "      <td>&lt;a href=\"http://twitter.com/download/iphone\" r...</td>\n",
       "      <td>NaN</td>\n",
       "      <td>NaN</td>\n",
       "      <td>NaN</td>\n",
       "      <td>[]</td>\n",
       "      <td>0</td>\n",
       "    </tr>\n",
       "    <tr>\n",
       "      <th>1</th>\n",
       "      <td>2023-01-22 13:44:39+00:00</td>\n",
       "      <td>1617156291046133761</td>\n",
       "      <td>@AlexandrovnaIng Prohibition of ChatGPT has be...</td>\n",
       "      <td>Caput_LupinumSG</td>\n",
       "      <td>https://twitter.com/Caput_LupinumSG/status/161...</td>\n",
       "      <td>https://twitter.com/Caput_LupinumSG</td>\n",
       "      <td>NaN</td>\n",
       "      <td>NaN</td>\n",
       "      <td>1</td>\n",
       "      <td>0</td>\n",
       "      <td>5</td>\n",
       "      <td>0</td>\n",
       "      <td>1617148639993806848</td>\n",
       "      <td>en</td>\n",
       "      <td>&lt;a href=\"http://twitter.com/download/iphone\" r...</td>\n",
       "      <td>NaN</td>\n",
       "      <td>NaN</td>\n",
       "      <td>[User(username='AlexandrovnaIng', id=282705900...</td>\n",
       "      <td>[]</td>\n",
       "      <td>0</td>\n",
       "    </tr>\n",
       "    <tr>\n",
       "      <th>2</th>\n",
       "      <td>2023-01-22 13:44:44+00:00</td>\n",
       "      <td>1617156308926349312</td>\n",
       "      <td>Schaut Euch an, was @fobizz @DianaKnodel alles...</td>\n",
       "      <td>ciffi</td>\n",
       "      <td>https://twitter.com/ciffi/status/1617156308926...</td>\n",
       "      <td>https://twitter.com/ciffi</td>\n",
       "      <td>['https://us02web.zoom.us/webinar/register/801...</td>\n",
       "      <td>['https://t.co/DsoeVJrPBp', 'https://t.co/HflT...</td>\n",
       "      <td>0</td>\n",
       "      <td>0</td>\n",
       "      <td>4</td>\n",
       "      <td>0</td>\n",
       "      <td>1617156308926349312</td>\n",
       "      <td>de</td>\n",
       "      <td>&lt;a href=\"http://twitter.com/#!/download/ipad\" ...</td>\n",
       "      <td>[Photo(previewUrl='https://pbs.twimg.com/media...</td>\n",
       "      <td>https://twitter.com/DianaKnodel/status/1617153...</td>\n",
       "      <td>[User(username='fobizz', id=884708145792253952...</td>\n",
       "      <td>['#ChatGPT']</td>\n",
       "      <td>1</td>\n",
       "    </tr>\n",
       "    <tr>\n",
       "      <th>3</th>\n",
       "      <td>2023-01-22 13:44:49+00:00</td>\n",
       "      <td>1617156332297256961</td>\n",
       "      <td>Bow down to chatGPT 🫡..... https://t.co/ENTSzi...</td>\n",
       "      <td>Vishwasrisiri</td>\n",
       "      <td>https://twitter.com/Vishwasrisiri/status/16171...</td>\n",
       "      <td>https://twitter.com/Vishwasrisiri</td>\n",
       "      <td>['https://twitter.com/agadmator/status/1617155...</td>\n",
       "      <td>['https://t.co/ENTSzi2AQ9']</td>\n",
       "      <td>0</td>\n",
       "      <td>0</td>\n",
       "      <td>2</td>\n",
       "      <td>0</td>\n",
       "      <td>1617156332297256961</td>\n",
       "      <td>en</td>\n",
       "      <td>&lt;a href=\"http://twitter.com/download/android\" ...</td>\n",
       "      <td>NaN</td>\n",
       "      <td>https://twitter.com/agadmator/status/161715501...</td>\n",
       "      <td>NaN</td>\n",
       "      <td>[]</td>\n",
       "      <td>0</td>\n",
       "    </tr>\n",
       "    <tr>\n",
       "      <th>4</th>\n",
       "      <td>2023-01-22 13:44:52+00:00</td>\n",
       "      <td>1617156345064570880</td>\n",
       "      <td>Profilinde vatan, Türkiye falan yazan bireyler...</td>\n",
       "      <td>0xGenetikciniz</td>\n",
       "      <td>https://twitter.com/0xGenetikciniz/status/1617...</td>\n",
       "      <td>https://twitter.com/0xGenetikciniz</td>\n",
       "      <td>NaN</td>\n",
       "      <td>NaN</td>\n",
       "      <td>0</td>\n",
       "      <td>0</td>\n",
       "      <td>4</td>\n",
       "      <td>0</td>\n",
       "      <td>1617156345064570880</td>\n",
       "      <td>tr</td>\n",
       "      <td>&lt;a href=\"http://twitter.com/download/iphone\" r...</td>\n",
       "      <td>NaN</td>\n",
       "      <td>NaN</td>\n",
       "      <td>NaN</td>\n",
       "      <td>[]</td>\n",
       "      <td>0</td>\n",
       "    </tr>\n",
       "  </tbody>\n",
       "</table>\n",
       "</div>"
      ],
      "text/plain": [
       "                    Datetime             Tweet Id  \\\n",
       "0  2023-01-22 13:44:34+00:00  1617156270871699456   \n",
       "1  2023-01-22 13:44:39+00:00  1617156291046133761   \n",
       "2  2023-01-22 13:44:44+00:00  1617156308926349312   \n",
       "3  2023-01-22 13:44:49+00:00  1617156332297256961   \n",
       "4  2023-01-22 13:44:52+00:00  1617156345064570880   \n",
       "\n",
       "                                                Text         Username  \\\n",
       "0  ChatGPTで遊ぶの忘れてた！！\\n書類作るコード書いてみてほしいのと、\\nどこまで思考整...      mochico0123   \n",
       "1  @AlexandrovnaIng Prohibition of ChatGPT has be...  Caput_LupinumSG   \n",
       "2  Schaut Euch an, was @fobizz @DianaKnodel alles...            ciffi   \n",
       "3  Bow down to chatGPT 🫡..... https://t.co/ENTSzi...    Vishwasrisiri   \n",
       "4  Profilinde vatan, Türkiye falan yazan bireyler...   0xGenetikciniz   \n",
       "\n",
       "                                           Permalink  \\\n",
       "0  https://twitter.com/mochico0123/status/1617156...   \n",
       "1  https://twitter.com/Caput_LupinumSG/status/161...   \n",
       "2  https://twitter.com/ciffi/status/1617156308926...   \n",
       "3  https://twitter.com/Vishwasrisiri/status/16171...   \n",
       "4  https://twitter.com/0xGenetikciniz/status/1617...   \n",
       "\n",
       "                                  User  \\\n",
       "0      https://twitter.com/mochico0123   \n",
       "1  https://twitter.com/Caput_LupinumSG   \n",
       "2            https://twitter.com/ciffi   \n",
       "3    https://twitter.com/Vishwasrisiri   \n",
       "4   https://twitter.com/0xGenetikciniz   \n",
       "\n",
       "                                            Outlinks  \\\n",
       "0                                                NaN   \n",
       "1                                                NaN   \n",
       "2  ['https://us02web.zoom.us/webinar/register/801...   \n",
       "3  ['https://twitter.com/agadmator/status/1617155...   \n",
       "4                                                NaN   \n",
       "\n",
       "                                          CountLinks  ReplyCount  \\\n",
       "0                                                NaN           1   \n",
       "1                                                NaN           1   \n",
       "2  ['https://t.co/DsoeVJrPBp', 'https://t.co/HflT...           0   \n",
       "3                        ['https://t.co/ENTSzi2AQ9']           0   \n",
       "4                                                NaN           0   \n",
       "\n",
       "   RetweetCount  LikeCount  QuoteCount       ConversationId Language  \\\n",
       "0             0          5           0  1617156270871699456       ja   \n",
       "1             0          5           0  1617148639993806848       en   \n",
       "2             0          4           0  1617156308926349312       de   \n",
       "3             0          2           0  1617156332297256961       en   \n",
       "4             0          4           0  1617156345064570880       tr   \n",
       "\n",
       "                                              Source  \\\n",
       "0  <a href=\"http://twitter.com/download/iphone\" r...   \n",
       "1  <a href=\"http://twitter.com/download/iphone\" r...   \n",
       "2  <a href=\"http://twitter.com/#!/download/ipad\" ...   \n",
       "3  <a href=\"http://twitter.com/download/android\" ...   \n",
       "4  <a href=\"http://twitter.com/download/iphone\" r...   \n",
       "\n",
       "                                               Media  \\\n",
       "0                                                NaN   \n",
       "1                                                NaN   \n",
       "2  [Photo(previewUrl='https://pbs.twimg.com/media...   \n",
       "3                                                NaN   \n",
       "4                                                NaN   \n",
       "\n",
       "                                         QuotedTweet  \\\n",
       "0                                                NaN   \n",
       "1                                                NaN   \n",
       "2  https://twitter.com/DianaKnodel/status/1617153...   \n",
       "3  https://twitter.com/agadmator/status/161715501...   \n",
       "4                                                NaN   \n",
       "\n",
       "                                      MentionedUsers       hashtag  \\\n",
       "0                                                NaN            []   \n",
       "1  [User(username='AlexandrovnaIng', id=282705900...            []   \n",
       "2  [User(username='fobizz', id=884708145792253952...  ['#ChatGPT']   \n",
       "3                                                NaN            []   \n",
       "4                                                NaN            []   \n",
       "\n",
       "   hastag_counts  \n",
       "0              0  \n",
       "1              0  \n",
       "2              1  \n",
       "3              0  \n",
       "4              0  "
      ]
     },
     "execution_count": 3,
     "metadata": {},
     "output_type": "execute_result"
    }
   ],
   "source": [
    "df.head()"
   ]
  },
  {
   "cell_type": "code",
   "execution_count": 4,
   "id": "1d657129",
   "metadata": {
    "execution": {
     "iopub.execute_input": "2023-02-25T09:16:11.632188Z",
     "iopub.status.busy": "2023-02-25T09:16:11.631775Z",
     "iopub.status.idle": "2023-02-25T09:16:11.653570Z",
     "shell.execute_reply": "2023-02-25T09:16:11.652477Z"
    },
    "papermill": {
     "duration": 0.041984,
     "end_time": "2023-02-25T09:16:11.655807",
     "exception": false,
     "start_time": "2023-02-25T09:16:11.613823",
     "status": "completed"
    },
    "tags": []
   },
   "outputs": [
    {
     "data": {
      "text/html": [
       "<div>\n",
       "<style scoped>\n",
       "    .dataframe tbody tr th:only-of-type {\n",
       "        vertical-align: middle;\n",
       "    }\n",
       "\n",
       "    .dataframe tbody tr th {\n",
       "        vertical-align: top;\n",
       "    }\n",
       "\n",
       "    .dataframe thead th {\n",
       "        text-align: right;\n",
       "    }\n",
       "</style>\n",
       "<table border=\"1\" class=\"dataframe\">\n",
       "  <thead>\n",
       "    <tr style=\"text-align: right;\">\n",
       "      <th></th>\n",
       "      <th>Datetime</th>\n",
       "      <th>Tweet Id</th>\n",
       "      <th>Text</th>\n",
       "      <th>Username</th>\n",
       "      <th>Permalink</th>\n",
       "      <th>User</th>\n",
       "      <th>Outlinks</th>\n",
       "      <th>CountLinks</th>\n",
       "      <th>ReplyCount</th>\n",
       "      <th>RetweetCount</th>\n",
       "      <th>LikeCount</th>\n",
       "      <th>QuoteCount</th>\n",
       "      <th>ConversationId</th>\n",
       "      <th>Language</th>\n",
       "      <th>Source</th>\n",
       "      <th>Media</th>\n",
       "      <th>QuotedTweet</th>\n",
       "      <th>MentionedUsers</th>\n",
       "      <th>hashtag</th>\n",
       "      <th>hastag_counts</th>\n",
       "    </tr>\n",
       "  </thead>\n",
       "  <tbody>\n",
       "    <tr>\n",
       "      <th>49996</th>\n",
       "      <td>2023-01-24 06:57:56+00:00</td>\n",
       "      <td>1617778712082096128</td>\n",
       "      <td>#ChatGPT ist ein #Chatbot, der durch künstlich...</td>\n",
       "      <td>HorstKrieger</td>\n",
       "      <td>https://twitter.com/HorstKrieger/status/161777...</td>\n",
       "      <td>https://twitter.com/HorstKrieger</td>\n",
       "      <td>['https://lnkd.in/dzHbz5-z', 'https://lnkd.in/...</td>\n",
       "      <td>['https://t.co/qxUJZinuNO', 'https://t.co/lFZD...</td>\n",
       "      <td>0</td>\n",
       "      <td>0</td>\n",
       "      <td>0</td>\n",
       "      <td>0</td>\n",
       "      <td>1617778712082096128</td>\n",
       "      <td>de</td>\n",
       "      <td>&lt;a href=\"http://www.linkedin.com/\" rel=\"nofoll...</td>\n",
       "      <td>NaN</td>\n",
       "      <td>NaN</td>\n",
       "      <td>NaN</td>\n",
       "      <td>['#ChatGPT', '#Chatbot,', '#KI', '#AI', '#Dial...</td>\n",
       "      <td>6</td>\n",
       "    </tr>\n",
       "    <tr>\n",
       "      <th>49997</th>\n",
       "      <td>2023-01-24 06:57:59+00:00</td>\n",
       "      <td>1617778726393249792</td>\n",
       "      <td>@r8r Ich hab mal die AI dazu befragt (ChatGPT)...</td>\n",
       "      <td>werpu</td>\n",
       "      <td>https://twitter.com/werpu/status/1617778726393...</td>\n",
       "      <td>https://twitter.com/werpu</td>\n",
       "      <td>NaN</td>\n",
       "      <td>NaN</td>\n",
       "      <td>0</td>\n",
       "      <td>0</td>\n",
       "      <td>0</td>\n",
       "      <td>0</td>\n",
       "      <td>1617774521586708480</td>\n",
       "      <td>de</td>\n",
       "      <td>&lt;a href=\"https://mobile.twitter.com\" rel=\"nofo...</td>\n",
       "      <td>[Photo(previewUrl='https://pbs.twimg.com/media...</td>\n",
       "      <td>NaN</td>\n",
       "      <td>[User(username='r8r', id=15451529, displayname...</td>\n",
       "      <td>[]</td>\n",
       "      <td>0</td>\n",
       "    </tr>\n",
       "    <tr>\n",
       "      <th>49998</th>\n",
       "      <td>2023-01-24 06:58:00+00:00</td>\n",
       "      <td>1617778728481992705</td>\n",
       "      <td>5 minuti di #chatGPT e ho capito che apprende ...</td>\n",
       "      <td>marcopiccinini</td>\n",
       "      <td>https://twitter.com/marcopiccinini/status/1617...</td>\n",
       "      <td>https://twitter.com/marcopiccinini</td>\n",
       "      <td>NaN</td>\n",
       "      <td>NaN</td>\n",
       "      <td>0</td>\n",
       "      <td>0</td>\n",
       "      <td>0</td>\n",
       "      <td>0</td>\n",
       "      <td>1617778728481992705</td>\n",
       "      <td>it</td>\n",
       "      <td>&lt;a href=\"http://twitter.com/download/iphone\" r...</td>\n",
       "      <td>[Photo(previewUrl='https://pbs.twimg.com/media...</td>\n",
       "      <td>NaN</td>\n",
       "      <td>NaN</td>\n",
       "      <td>['#chatGPT']</td>\n",
       "      <td>1</td>\n",
       "    </tr>\n",
       "    <tr>\n",
       "      <th>49999</th>\n",
       "      <td>2023-01-24 06:58:01+00:00</td>\n",
       "      <td>1617778731678044162</td>\n",
       "      <td>Portland Shop Uses ChatGPT To Tell Family Stor...</td>\n",
       "      <td>EuniceNyandat</td>\n",
       "      <td>https://twitter.com/EuniceNyandat/status/16177...</td>\n",
       "      <td>https://twitter.com/EuniceNyandat</td>\n",
       "      <td>['https://drumup.io/s/DkswB6']</td>\n",
       "      <td>['https://t.co/rzGvr6yTOc']</td>\n",
       "      <td>0</td>\n",
       "      <td>0</td>\n",
       "      <td>0</td>\n",
       "      <td>0</td>\n",
       "      <td>1617778731678044162</td>\n",
       "      <td>en</td>\n",
       "      <td>&lt;a href=\"https://drumup.io\" rel=\"nofollow\"&gt;dru...</td>\n",
       "      <td>NaN</td>\n",
       "      <td>NaN</td>\n",
       "      <td>NaN</td>\n",
       "      <td>[]</td>\n",
       "      <td>0</td>\n",
       "    </tr>\n",
       "    <tr>\n",
       "      <th>50000</th>\n",
       "      <td>2023-01-24 06:58:01+00:00</td>\n",
       "      <td>1617778733355790342</td>\n",
       "      <td>Ahora sueño con el día en que Amazon integre u...</td>\n",
       "      <td>AmericoSD_69</td>\n",
       "      <td>https://twitter.com/AmericoSD_69/status/161777...</td>\n",
       "      <td>https://twitter.com/AmericoSD_69</td>\n",
       "      <td>NaN</td>\n",
       "      <td>NaN</td>\n",
       "      <td>0</td>\n",
       "      <td>0</td>\n",
       "      <td>0</td>\n",
       "      <td>0</td>\n",
       "      <td>1617778733355790342</td>\n",
       "      <td>es</td>\n",
       "      <td>&lt;a href=\"http://twitter.com/download/android\" ...</td>\n",
       "      <td>NaN</td>\n",
       "      <td>NaN</td>\n",
       "      <td>NaN</td>\n",
       "      <td>[]</td>\n",
       "      <td>0</td>\n",
       "    </tr>\n",
       "  </tbody>\n",
       "</table>\n",
       "</div>"
      ],
      "text/plain": [
       "                        Datetime             Tweet Id  \\\n",
       "49996  2023-01-24 06:57:56+00:00  1617778712082096128   \n",
       "49997  2023-01-24 06:57:59+00:00  1617778726393249792   \n",
       "49998  2023-01-24 06:58:00+00:00  1617778728481992705   \n",
       "49999  2023-01-24 06:58:01+00:00  1617778731678044162   \n",
       "50000  2023-01-24 06:58:01+00:00  1617778733355790342   \n",
       "\n",
       "                                                    Text        Username  \\\n",
       "49996  #ChatGPT ist ein #Chatbot, der durch künstlich...    HorstKrieger   \n",
       "49997  @r8r Ich hab mal die AI dazu befragt (ChatGPT)...           werpu   \n",
       "49998  5 minuti di #chatGPT e ho capito che apprende ...  marcopiccinini   \n",
       "49999  Portland Shop Uses ChatGPT To Tell Family Stor...   EuniceNyandat   \n",
       "50000  Ahora sueño con el día en que Amazon integre u...    AmericoSD_69   \n",
       "\n",
       "                                               Permalink  \\\n",
       "49996  https://twitter.com/HorstKrieger/status/161777...   \n",
       "49997  https://twitter.com/werpu/status/1617778726393...   \n",
       "49998  https://twitter.com/marcopiccinini/status/1617...   \n",
       "49999  https://twitter.com/EuniceNyandat/status/16177...   \n",
       "50000  https://twitter.com/AmericoSD_69/status/161777...   \n",
       "\n",
       "                                     User  \\\n",
       "49996    https://twitter.com/HorstKrieger   \n",
       "49997           https://twitter.com/werpu   \n",
       "49998  https://twitter.com/marcopiccinini   \n",
       "49999   https://twitter.com/EuniceNyandat   \n",
       "50000    https://twitter.com/AmericoSD_69   \n",
       "\n",
       "                                                Outlinks  \\\n",
       "49996  ['https://lnkd.in/dzHbz5-z', 'https://lnkd.in/...   \n",
       "49997                                                NaN   \n",
       "49998                                                NaN   \n",
       "49999                     ['https://drumup.io/s/DkswB6']   \n",
       "50000                                                NaN   \n",
       "\n",
       "                                              CountLinks  ReplyCount  \\\n",
       "49996  ['https://t.co/qxUJZinuNO', 'https://t.co/lFZD...           0   \n",
       "49997                                                NaN           0   \n",
       "49998                                                NaN           0   \n",
       "49999                        ['https://t.co/rzGvr6yTOc']           0   \n",
       "50000                                                NaN           0   \n",
       "\n",
       "       RetweetCount  LikeCount  QuoteCount       ConversationId Language  \\\n",
       "49996             0          0           0  1617778712082096128       de   \n",
       "49997             0          0           0  1617774521586708480       de   \n",
       "49998             0          0           0  1617778728481992705       it   \n",
       "49999             0          0           0  1617778731678044162       en   \n",
       "50000             0          0           0  1617778733355790342       es   \n",
       "\n",
       "                                                  Source  \\\n",
       "49996  <a href=\"http://www.linkedin.com/\" rel=\"nofoll...   \n",
       "49997  <a href=\"https://mobile.twitter.com\" rel=\"nofo...   \n",
       "49998  <a href=\"http://twitter.com/download/iphone\" r...   \n",
       "49999  <a href=\"https://drumup.io\" rel=\"nofollow\">dru...   \n",
       "50000  <a href=\"http://twitter.com/download/android\" ...   \n",
       "\n",
       "                                                   Media QuotedTweet  \\\n",
       "49996                                                NaN         NaN   \n",
       "49997  [Photo(previewUrl='https://pbs.twimg.com/media...         NaN   \n",
       "49998  [Photo(previewUrl='https://pbs.twimg.com/media...         NaN   \n",
       "49999                                                NaN         NaN   \n",
       "50000                                                NaN         NaN   \n",
       "\n",
       "                                          MentionedUsers  \\\n",
       "49996                                                NaN   \n",
       "49997  [User(username='r8r', id=15451529, displayname...   \n",
       "49998                                                NaN   \n",
       "49999                                                NaN   \n",
       "50000                                                NaN   \n",
       "\n",
       "                                                 hashtag  hastag_counts  \n",
       "49996  ['#ChatGPT', '#Chatbot,', '#KI', '#AI', '#Dial...              6  \n",
       "49997                                                 []              0  \n",
       "49998                                       ['#chatGPT']              1  \n",
       "49999                                                 []              0  \n",
       "50000                                                 []              0  "
      ]
     },
     "execution_count": 4,
     "metadata": {},
     "output_type": "execute_result"
    }
   ],
   "source": [
    "df.tail()"
   ]
  },
  {
   "cell_type": "code",
   "execution_count": 5,
   "id": "c1bea8c0",
   "metadata": {
    "execution": {
     "iopub.execute_input": "2023-02-25T09:16:11.692076Z",
     "iopub.status.busy": "2023-02-25T09:16:11.691239Z",
     "iopub.status.idle": "2023-02-25T09:16:11.697256Z",
     "shell.execute_reply": "2023-02-25T09:16:11.696436Z"
    },
    "papermill": {
     "duration": 0.026547,
     "end_time": "2023-02-25T09:16:11.699340",
     "exception": false,
     "start_time": "2023-02-25T09:16:11.672793",
     "status": "completed"
    },
    "tags": []
   },
   "outputs": [
    {
     "data": {
      "text/plain": [
       "(50001, 20)"
      ]
     },
     "execution_count": 5,
     "metadata": {},
     "output_type": "execute_result"
    }
   ],
   "source": [
    "df.shape"
   ]
  },
  {
   "cell_type": "code",
   "execution_count": 73,
   "id": "b9b41e99",
   "metadata": {},
   "outputs": [
    {
     "name": "stderr",
     "output_type": "stream",
     "text": [
      "/var/folders/rh/brhc68qd6tz5qmd49qw1g03w0000gn/T/ipykernel_3455/388637711.py:4: FutureWarning: The default value of regex will change from True to False in a future version.\n",
      "  df['Text'] = df['Text'].str.replace('[^\\w\\s]','')\n"
     ]
    }
   ],
   "source": [
    "df = df[['Text','Language']]\n",
    "df = df.dropna()\n",
    "df['Text'] = df['Text'].str.lower()\n",
    "df['Text'] = df['Text'].str.replace('[^\\w\\s]','')"
   ]
  },
  {
   "cell_type": "code",
   "execution_count": 83,
   "id": "017584ba",
   "metadata": {},
   "outputs": [],
   "source": [
    "X = df['Text']  # Feature set\n",
    "y = df['Language']  # Target variable"
   ]
  },
  {
   "cell_type": "code",
   "execution_count": 74,
   "id": "4ef1f37e",
   "metadata": {
    "execution": {
     "iopub.execute_input": "2023-02-25T09:16:11.735466Z",
     "iopub.status.busy": "2023-02-25T09:16:11.735022Z",
     "iopub.status.idle": "2023-02-25T09:16:11.742561Z",
     "shell.execute_reply": "2023-02-25T09:16:11.741465Z"
    },
    "papermill": {
     "duration": 0.028428,
     "end_time": "2023-02-25T09:16:11.744863",
     "exception": false,
     "start_time": "2023-02-25T09:16:11.716435",
     "status": "completed"
    },
    "tags": []
   },
   "outputs": [
    {
     "data": {
      "text/plain": [
       "Index(['Text', 'Language'], dtype='object')"
      ]
     },
     "execution_count": 74,
     "metadata": {},
     "output_type": "execute_result"
    }
   ],
   "source": [
    "df.columns"
   ]
  },
  {
   "cell_type": "code",
   "execution_count": 75,
   "id": "1d2047c0",
   "metadata": {
    "execution": {
     "iopub.execute_input": "2023-02-25T09:16:11.781158Z",
     "iopub.status.busy": "2023-02-25T09:16:11.780660Z",
     "iopub.status.idle": "2023-02-25T09:16:11.972593Z",
     "shell.execute_reply": "2023-02-25T09:16:11.971606Z"
    },
    "papermill": {
     "duration": 0.213035,
     "end_time": "2023-02-25T09:16:11.975085",
     "exception": false,
     "start_time": "2023-02-25T09:16:11.762050",
     "status": "completed"
    },
    "tags": []
   },
   "outputs": [
    {
     "data": {
      "text/plain": [
       "554"
      ]
     },
     "execution_count": 75,
     "metadata": {},
     "output_type": "execute_result"
    }
   ],
   "source": [
    "df.duplicated().sum()"
   ]
  },
  {
   "cell_type": "code",
   "execution_count": 76,
   "id": "92343207",
   "metadata": {
    "execution": {
     "iopub.execute_input": "2023-02-25T09:16:12.011059Z",
     "iopub.status.busy": "2023-02-25T09:16:12.010625Z",
     "iopub.status.idle": "2023-02-25T09:16:12.058090Z",
     "shell.execute_reply": "2023-02-25T09:16:12.056824Z"
    },
    "papermill": {
     "duration": 0.06859,
     "end_time": "2023-02-25T09:16:12.060776",
     "exception": false,
     "start_time": "2023-02-25T09:16:11.992186",
     "status": "completed"
    },
    "tags": []
   },
   "outputs": [
    {
     "data": {
      "text/plain": [
       "Text        0\n",
       "Language    0\n",
       "dtype: int64"
      ]
     },
     "execution_count": 76,
     "metadata": {},
     "output_type": "execute_result"
    }
   ],
   "source": [
    "df.isnull().sum()"
   ]
  },
  {
   "cell_type": "code",
   "execution_count": 79,
   "id": "def65c56",
   "metadata": {
    "execution": {
     "iopub.execute_input": "2023-02-25T09:16:12.275453Z",
     "iopub.status.busy": "2023-02-25T09:16:12.274766Z",
     "iopub.status.idle": "2023-02-25T09:16:12.423217Z",
     "shell.execute_reply": "2023-02-25T09:16:12.422255Z"
    },
    "papermill": {
     "duration": 0.170223,
     "end_time": "2023-02-25T09:16:12.425704",
     "exception": false,
     "start_time": "2023-02-25T09:16:12.255481",
     "status": "completed"
    },
    "tags": []
   },
   "outputs": [
    {
     "data": {
      "text/plain": [
       "Text        49444\n",
       "Language       61\n",
       "dtype: int64"
      ]
     },
     "execution_count": 79,
     "metadata": {},
     "output_type": "execute_result"
    }
   ],
   "source": [
    "df.nunique()"
   ]
  },
  {
   "cell_type": "code",
   "execution_count": 80,
   "id": "157670e9",
   "metadata": {
    "execution": {
     "iopub.execute_input": "2023-02-25T09:16:12.463704Z",
     "iopub.status.busy": "2023-02-25T09:16:12.462891Z",
     "iopub.status.idle": "2023-02-25T09:16:12.471961Z",
     "shell.execute_reply": "2023-02-25T09:16:12.470689Z"
    },
    "papermill": {
     "duration": 0.03108,
     "end_time": "2023-02-25T09:16:12.474501",
     "exception": false,
     "start_time": "2023-02-25T09:16:12.443421",
     "status": "completed"
    },
    "tags": []
   },
   "outputs": [],
   "source": [
    "def most_frequent_values(data):\n",
    "    total = data.count()\n",
    "    tt = pd.DataFrame(total)\n",
    "    tt.columns = ['Total']\n",
    "    items = []\n",
    "    vals = []\n",
    "    for col in data.columns:\n",
    "        try:\n",
    "            itm = data[col].value_counts().index[0]\n",
    "            val = data[col].value_counts().values[0]\n",
    "            items.append(itm)\n",
    "            vals.append(val)\n",
    "        except Exception as ex:\n",
    "            print(ex)\n",
    "            items.append(0)\n",
    "            vals.append(0)\n",
    "            continue\n",
    "    tt['Most frequent item'] = items\n",
    "    tt['Frequence'] = vals\n",
    "    tt['Percent from total'] = np.round(vals / total * 100, 3)\n",
    "    return(np.transpose(tt))"
   ]
  },
  {
   "cell_type": "code",
   "execution_count": 81,
   "id": "1a834163",
   "metadata": {
    "execution": {
     "iopub.execute_input": "2023-02-25T09:16:12.512530Z",
     "iopub.status.busy": "2023-02-25T09:16:12.511605Z",
     "iopub.status.idle": "2023-02-25T09:16:12.887312Z",
     "shell.execute_reply": "2023-02-25T09:16:12.885993Z"
    },
    "papermill": {
     "duration": 0.397596,
     "end_time": "2023-02-25T09:16:12.890035",
     "exception": false,
     "start_time": "2023-02-25T09:16:12.492439",
     "status": "completed"
    },
    "tags": []
   },
   "outputs": [
    {
     "data": {
      "text/html": [
       "<div>\n",
       "<style scoped>\n",
       "    .dataframe tbody tr th:only-of-type {\n",
       "        vertical-align: middle;\n",
       "    }\n",
       "\n",
       "    .dataframe tbody tr th {\n",
       "        vertical-align: top;\n",
       "    }\n",
       "\n",
       "    .dataframe thead th {\n",
       "        text-align: right;\n",
       "    }\n",
       "</style>\n",
       "<table border=\"1\" class=\"dataframe\">\n",
       "  <thead>\n",
       "    <tr style=\"text-align: right;\">\n",
       "      <th></th>\n",
       "      <th>Text</th>\n",
       "      <th>Language</th>\n",
       "    </tr>\n",
       "  </thead>\n",
       "  <tbody>\n",
       "    <tr>\n",
       "      <th>Total</th>\n",
       "      <td>50001</td>\n",
       "      <td>50001</td>\n",
       "    </tr>\n",
       "    <tr>\n",
       "      <th>Most frequent item</th>\n",
       "      <td>chatgpt_issac ai</td>\n",
       "      <td>en</td>\n",
       "    </tr>\n",
       "    <tr>\n",
       "      <th>Frequence</th>\n",
       "      <td>178</td>\n",
       "      <td>32076</td>\n",
       "    </tr>\n",
       "    <tr>\n",
       "      <th>Percent from total</th>\n",
       "      <td>0.356</td>\n",
       "      <td>64.151</td>\n",
       "    </tr>\n",
       "  </tbody>\n",
       "</table>\n",
       "</div>"
      ],
      "text/plain": [
       "                                Text Language\n",
       "Total                          50001    50001\n",
       "Most frequent item  chatgpt_issac ai       en\n",
       "Frequence                        178    32076\n",
       "Percent from total             0.356   64.151"
      ]
     },
     "execution_count": 81,
     "metadata": {},
     "output_type": "execute_result"
    }
   ],
   "source": [
    "most_frequent_values(df)"
   ]
  },
  {
   "cell_type": "code",
   "execution_count": 82,
   "id": "c1e5ccd1",
   "metadata": {
    "execution": {
     "iopub.execute_input": "2023-02-25T09:16:12.929147Z",
     "iopub.status.busy": "2023-02-25T09:16:12.928131Z",
     "iopub.status.idle": "2023-02-25T09:16:14.130599Z",
     "shell.execute_reply": "2023-02-25T09:16:14.129471Z"
    },
    "papermill": {
     "duration": 1.224782,
     "end_time": "2023-02-25T09:16:14.133287",
     "exception": false,
     "start_time": "2023-02-25T09:16:12.908505",
     "status": "completed"
    },
    "tags": []
   },
   "outputs": [],
   "source": [
    "import matplotlib.pyplot as plt\n",
    "import seaborn as sns"
   ]
  },
  {
   "cell_type": "code",
   "execution_count": 85,
   "id": "1fa9212b",
   "metadata": {
    "execution": {
     "iopub.execute_input": "2023-02-25T09:16:17.255904Z",
     "iopub.status.busy": "2023-02-25T09:16:17.255477Z",
     "iopub.status.idle": "2023-02-25T09:16:17.265625Z",
     "shell.execute_reply": "2023-02-25T09:16:17.264777Z"
    },
    "papermill": {
     "duration": 0.038106,
     "end_time": "2023-02-25T09:16:17.267569",
     "exception": false,
     "start_time": "2023-02-25T09:16:17.229463",
     "status": "completed"
    },
    "scrolled": true,
    "tags": []
   },
   "outputs": [
    {
     "data": {
      "text/plain": [
       "array(['ja', 'en', 'de', 'tr', 'pl', 'fr', 'es', 'pt', 'lo', 'no', 'ca',\n",
       "       'zh', 'qme', 'th', 'ne', 'ko', 'und', 'nl', 'fa', 'it', 'da', 'fi',\n",
       "       'eu', 'hi', 'ar', 'sv', 'in', 'ru', 'qht', 'tl', 'hu', 'cs', 'uk',\n",
       "       'iw', 'et', 'cy', 'bg', 'ht', 'el', 'vi', 'sl', 'kn', 'ro', 'lt',\n",
       "       'ur', 'zxx', 'ml', 'mr', 'lv', 'gu', 'qam', 'is', 'ta', 'te', 'pa',\n",
       "       'sd', 'am', 'sr', 'hy', 'or', 'bn'], dtype=object)"
      ]
     },
     "execution_count": 85,
     "metadata": {},
     "output_type": "execute_result"
    }
   ],
   "source": [
    "df['Language'].unique()"
   ]
  },
  {
   "cell_type": "code",
   "execution_count": 86,
   "id": "a5a0e42a",
   "metadata": {
    "execution": {
     "iopub.execute_input": "2023-02-25T09:16:17.319497Z",
     "iopub.status.busy": "2023-02-25T09:16:17.318294Z",
     "iopub.status.idle": "2023-02-25T09:16:17.329946Z",
     "shell.execute_reply": "2023-02-25T09:16:17.328885Z"
    },
    "papermill": {
     "duration": 0.039871,
     "end_time": "2023-02-25T09:16:17.332164",
     "exception": false,
     "start_time": "2023-02-25T09:16:17.292293",
     "status": "completed"
    },
    "tags": []
   },
   "outputs": [
    {
     "data": {
      "text/plain": [
       "en    32076\n",
       "ja     5046\n",
       "es     3315\n",
       "fr     2492\n",
       "de     1207\n",
       "      ...  \n",
       "sd        1\n",
       "am        1\n",
       "hy        1\n",
       "or        1\n",
       "bn        1\n",
       "Name: Language, Length: 61, dtype: int64"
      ]
     },
     "execution_count": 86,
     "metadata": {},
     "output_type": "execute_result"
    }
   ],
   "source": [
    "df['Language'].value_counts()"
   ]
  },
  {
   "cell_type": "code",
   "execution_count": 87,
   "id": "3078dbc6",
   "metadata": {
    "execution": {
     "iopub.execute_input": "2023-02-25T09:16:17.384123Z",
     "iopub.status.busy": "2023-02-25T09:16:17.383146Z",
     "iopub.status.idle": "2023-02-25T09:16:17.667884Z",
     "shell.execute_reply": "2023-02-25T09:16:17.666762Z"
    },
    "papermill": {
     "duration": 0.313427,
     "end_time": "2023-02-25T09:16:17.670345",
     "exception": false,
     "start_time": "2023-02-25T09:16:17.356918",
     "status": "completed"
    },
    "tags": []
   },
   "outputs": [
    {
     "data": {
      "image/png": "[encoded data removed]",
      "text/plain": [
       "<Figure size 1500x600 with 1 Axes>"
      ]
     },
     "metadata": {},
     "output_type": "display_data"
    }
   ],
   "source": [
    "plt.figure(figsize=(15,6))\n",
    "sns.countplot(data=df, x='Language', order=df[\"Language\"].value_counts().index[:10])\n",
    "plt.show()"
   ]
  },
  {
   "cell_type": "code",
   "execution_count": 88,
   "id": "066c2d10",
   "metadata": {
    "execution": {
     "iopub.execute_input": "2023-02-25T09:16:17.723830Z",
     "iopub.status.busy": "2023-02-25T09:16:17.723142Z",
     "iopub.status.idle": "2023-02-25T09:16:17.752293Z",
     "shell.execute_reply": "2023-02-25T09:16:17.750825Z"
    },
    "papermill": {
     "duration": 0.062339,
     "end_time": "2023-02-25T09:16:17.758188",
     "exception": false,
     "start_time": "2023-02-25T09:16:17.695849",
     "status": "completed"
    },
    "tags": []
   },
   "outputs": [
    {
     "data": {
      "text/plain": [
       "array(['chatgptで遊ぶの忘れてた\\n書類作るコード書いてみてほしいのと\\nどこまで思考整理付き合ってくれるのかと\\nウミガメのスープやってみたい\\nあとは調べ物してくれ\\n事務所でちょいといじったがとりあえず色々やってみたい',\n",
       "       'alexandrovnaing prohibition of chatgpt has been added to the honor code of my daughters school',\n",
       "       'schaut euch an was fobizz dianaknodel alles  auf die piste bringt um euch mitzunehmen \\n\\nmorgen startet reg_schulz  und am di um 12 besprechen wir chatgpt als kritische freundinnen im livebriefing mit spdvorsitzender eskensaskia amp diana\\nhttpstcodsoevjrpbp httpstcohfltruresk httpstco7tycx6srp8',\n",
       "       ...,\n",
       "       '5 minuti di chatgpt e ho capito che apprende in maniera superficiale da fonti non qualificate come i boomer su facebook e lumano medio non è ancora meglio é uno stagista che googla veloce httpstcortjno39yep',\n",
       "       'portland shop uses chatgpt to tell family stories on a startup budget httpstcorzgvr6ytoc',\n",
       "       'ahora sueño con el día en que amazon integre un modelo de lenguaje como chatgpt en alexa'],\n",
       "      dtype=object)"
      ]
     },
     "execution_count": 88,
     "metadata": {},
     "output_type": "execute_result"
    }
   ],
   "source": [
    "df['Text'].unique()"
   ]
  },
  {
   "cell_type": "code",
   "execution_count": 89,
   "id": "178b3ad3",
   "metadata": {
    "execution": {
     "iopub.execute_input": "2023-02-25T09:16:17.815793Z",
     "iopub.status.busy": "2023-02-25T09:16:17.815366Z",
     "iopub.status.idle": "2023-02-25T09:16:17.827348Z",
     "shell.execute_reply": "2023-02-25T09:16:17.826497Z"
    },
    "papermill": {
     "duration": 0.042737,
     "end_time": "2023-02-25T09:16:17.829385",
     "exception": false,
     "start_time": "2023-02-25T09:16:17.786648",
     "status": "completed"
    },
    "tags": []
   },
   "outputs": [
    {
     "data": {
      "text/plain": [
       "chatgpt_issac ai                                                                                                                                                                                                                                                              178\n",
       "chatgpt                                                                                                                                                                                                                                                                        26\n",
       "just in chatgpt creator openai signs multiyear multibillion investment deal with microsoft msft                                                                                                                                                                                16\n",
       "imagine chatgpt and siri had a baby thats zenen_ai                                                                                                                                                                                                                             10\n",
       "chatgpt                                                                                                                                                                                                                                                                         9\n",
       "                                                                                                                                                                                                                                                                             ... \n",
       "scores of stanford students used chatgpt on final exams \\n\\ntechnology tech technews teknocks\\nvia rtechnology httpstcotvou58vwdf                                                                                                                                               1\n",
       "14 january  chat gpt copywriting prompts\\n\\nif you want to get the best of chat gpt and dont know where to start start here the free version has 150 prompts but there is also the 500 prompts\\n\\nhttpstcoasctw7evzp                                                            1\n",
       "technology has improved our lives in many ways but also has negative impacts on society including decreased communication and increased social isolation its important to be aware and take steps to mitigate these effects\\n\\naithoughts day5\\nchatgpt httpstcosyqys7ux0f      1\n",
       "by following these best practices you can create a landing page that will help you convert more visitors into customers\\n\\nhttpstcop6c9wfuexa\\n\\nchatgpt webdesign webdesignwithai                                                                                              1\n",
       "ahora sueño con el día en que amazon integre un modelo de lenguaje como chatgpt en alexa                                                                                                                                                                                        1\n",
       "Name: Text, Length: 49444, dtype: int64"
      ]
     },
     "execution_count": 89,
     "metadata": {},
     "output_type": "execute_result"
    }
   ],
   "source": [
    "df['Text'].value_counts()"
   ]
  },
  {
   "cell_type": "code",
   "execution_count": 90,
   "id": "46d825f0",
   "metadata": {
    "execution": {
     "iopub.execute_input": "2023-02-25T09:16:17.888596Z",
     "iopub.status.busy": "2023-02-25T09:16:17.887767Z",
     "iopub.status.idle": "2023-02-25T09:16:18.337257Z",
     "shell.execute_reply": "2023-02-25T09:16:18.335901Z"
    },
    "papermill": {
     "duration": 0.482494,
     "end_time": "2023-02-25T09:16:18.340136",
     "exception": false,
     "start_time": "2023-02-25T09:16:17.857642",
     "status": "completed"
    },
    "tags": []
   },
   "outputs": [
    {
     "data": {
      "image/png": "[encoded data removed]",
      "text/plain": [
       "<Figure size 1500x600 with 1 Axes>"
      ]
     },
     "metadata": {},
     "output_type": "display_data"
    }
   ],
   "source": [
    "plt.figure(figsize=(15,6))\n",
    "sns.countplot(data=df, x='Text', order=df[\"Text\"].value_counts().index[:10])\n",
    "plt.xticks(rotation = 90)\n",
    "plt.show()"
   ]
  },
  {
   "cell_type": "code",
   "execution_count": 92,
   "id": "06cdbac9",
   "metadata": {},
   "outputs": [],
   "source": [
    "#Split the dataset into training and testing sets\n",
    "X_train, X_test, y_train, y_test = train_test_split(X, y, test_size=0.2, random_state=42)\n"
   ]
  },
  {
   "cell_type": "code",
   "execution_count": 93,
   "id": "3f47df91",
   "metadata": {},
   "outputs": [],
   "source": [
    "#Vectorize the text data\n",
    "vectorizer = CountVectorizer()  # You can also use TfidfVectorizer for TF-IDF representation\n",
    "X_train_vectorized = vectorizer.fit_transform(X_train)\n",
    "X_test_vectorized = vectorizer.transform(X_test)\n"
   ]
  },
  {
   "cell_type": "code",
   "execution_count": 94,
   "id": "7f3b6869",
   "metadata": {},
   "outputs": [
    {
     "name": "stdout",
     "output_type": "stream",
     "text": [
      "Decision Tree Accuracy: 0.9147085291470853\n"
     ]
    }
   ],
   "source": [
    "# Decision Tree\n",
    "dt_model = DecisionTreeClassifier()\n",
    "dt_model.fit(X_train_vectorized, y_train)\n",
    "dt_predictions = dt_model.predict(X_test_vectorized)\n",
    "dt_accuracy = metrics.accuracy_score(y_test, dt_predictions)\n",
    "print(\"Decision Tree Accuracy:\", dt_accuracy)\n",
    "\n"
   ]
  },
  {
   "cell_type": "code",
   "execution_count": 95,
   "id": "9e53cb69",
   "metadata": {},
   "outputs": [
    {
     "name": "stdout",
     "output_type": "stream",
     "text": [
      "Random Forest Accuracy: 0.9248075192480751\n"
     ]
    }
   ],
   "source": [
    "# Random Forest\n",
    "rf_model = RandomForestClassifier()\n",
    "rf_model.fit(X_train_vectorized, y_train)\n",
    "rf_predictions = rf_model.predict(X_test_vectorized)\n",
    "rf_accuracy = metrics.accuracy_score(y_test, rf_predictions)\n",
    "print(\"Random Forest Accuracy:\", rf_accuracy)\n"
   ]
  },
  {
   "cell_type": "code",
   "execution_count": 96,
   "id": "70af1bfd",
   "metadata": {},
   "outputs": [
    {
     "name": "stdout",
     "output_type": "stream",
     "text": [
      "KNN Accuracy: 0.7991200879912009\n"
     ]
    }
   ],
   "source": [
    "# K-Nearest Neighbors (KNN)\n",
    "knn_model = KNeighborsClassifier()\n",
    "knn_model.fit(X_train_vectorized, y_train)\n",
    "knn_predictions = knn_model.predict(X_test_vectorized)\n",
    "knn_accuracy = metrics.accuracy_score(y_test, knn_predictions)\n",
    "print(\"KNN Accuracy:\", knn_accuracy)"
   ]
  },
  {
   "cell_type": "code",
   "execution_count": 97,
   "id": "123d10fb",
   "metadata": {},
   "outputs": [
    {
     "name": "stdout",
     "output_type": "stream",
     "text": [
      "Multinomial Naive Bayes Accuracy: 0.8733126687331267\n"
     ]
    }
   ],
   "source": [
    "# Multinomial Naive Bayes\n",
    "nb_model = MultinomialNB()\n",
    "nb_model.fit(X_train_vectorized, y_train)\n",
    "nb_predictions = nb_model.predict(X_test_vectorized)\n",
    "nb_accuracy = metrics.accuracy_score(y_test, nb_predictions)\n",
    "print(\"Multinomial Naive Bayes Accuracy:\", nb_accuracy)"
   ]
  },
  {
   "cell_type": "code",
   "execution_count": 111,
   "id": "47effcc8",
   "metadata": {},
   "outputs": [
    {
     "name": "stderr",
     "output_type": "stream",
     "text": [
      "/Users/student/anaconda3/lib/python3.9/site-packages/sklearn/cluster/_kmeans.py:870: FutureWarning: The default value of `n_init` will change from 10 to 'auto' in 1.4. Set the value of `n_init` explicitly to suppress the warning\n",
      "  warnings.warn(\n"
     ]
    },
    {
     "name": "stdout",
     "output_type": "stream",
     "text": [
      "Silhouette Score: 0.18906967533836835\n"
     ]
    },
    {
     "name": "stderr",
     "output_type": "stream",
     "text": [
      "/var/folders/rh/brhc68qd6tz5qmd49qw1g03w0000gn/T/ipykernel_3455/185025738.py:24: MatplotlibDeprecationWarning: The get_cmap function was deprecated in Matplotlib 3.7 and will be removed two minor releases later. Use ``matplotlib.colormaps[name]`` or ``matplotlib.colormaps.get_cmap(obj)`` instead.\n",
      "  color = plt.cm.get_cmap(\"Spectral\")(i / 3)\n"
     ]
    },
    {
     "data": {
      "image/png": "[encoded data removed]",
      "text/plain": [
       "<Figure size 800x600 with 1 Axes>"
      ]
     },
     "metadata": {},
     "output_type": "display_data"
    }
   ],
   "source": [
    "import matplotlib.pyplot as plt\n",
    "from sklearn.metrics import silhouette_samples\n",
    "\n",
    "# Apply K-Means clustering\n",
    "kmeans_model = KMeans(n_clusters=3)  # Choose an appropriate number of clusters\n",
    "kmeans_model.fit(X_train_vectorized)\n",
    "kmeans_predictions = kmeans_model.predict(X_test_vectorized)\n",
    "\n",
    "# Calculate the silhouette score\n",
    "silhouette_avg = silhouette_score(X_test_vectorized, kmeans_predictions)\n",
    "print(\"Silhouette Score:\", silhouette_avg)\n",
    "\n",
    "# Visualize the silhouette plot\n",
    "silhouette_values = silhouette_samples(X_test_vectorized, kmeans_predictions)\n",
    "\n",
    "plt.figure(figsize=(8, 6))\n",
    "y_lower = 10\n",
    "for i in range(3):\n",
    "    ith_cluster_silhouette_values = silhouette_values[kmeans_predictions == i]\n",
    "    ith_cluster_silhouette_values.sort()\n",
    "    size_cluster_i = ith_cluster_silhouette_values.shape[0]\n",
    "    y_upper = y_lower + size_cluster_i\n",
    "\n",
    "    color = plt.cm.get_cmap(\"Spectral\")(i / 3)\n",
    "    plt.fill_betweenx(np.arange(y_lower, y_upper), 0, ith_cluster_silhouette_values,\n",
    "                      facecolor=color, edgecolor=color, alpha=0.7)\n",
    "    plt.text(-0.05, y_lower + 0.5 * size_cluster_i, str(i))\n",
    "    y_lower = y_upper + 10\n",
    "\n",
    "plt.axvline(x=silhouette_avg, color=\"red\", linestyle=\"--\")\n",
    "plt.title(\"Silhouette Plot for K-Means Clustering\")\n",
    "plt.xlabel(\"Silhouette coefficient\")\n",
    "plt.ylabel(\"Cluster\")\n",
    "plt.show()"
   ]
  },
  {
   "cell_type": "code",
   "execution_count": 109,
   "id": "a5ed6b9c",
   "metadata": {},
   "outputs": [
    {
     "data": {
      "image/png": "[encoded data removed]",
      "text/plain": [
       "<Figure size 800x600 with 1 Axes>"
      ]
     },
     "metadata": {},
     "output_type": "display_data"
    }
   ],
   "source": [
    "import matplotlib.pyplot as plt\n",
    "import seaborn as sns\n",
    "\n",
    "\n",
    "# Visualize the performance of supervised machine learning models\n",
    "models = ['Decision Tree', 'Random Forest', 'KNN', 'Multinomial Naive Bayes']\n",
    "accuracies = [dt_accuracy, rf_accuracy, knn_accuracy, nb_accuracy]\n",
    "\n",
    "plt.figure(figsize=(8, 6))\n",
    "sns.barplot(x=models, y=accuracies)\n",
    "plt.title('Accuracy of Supervised Models')\n",
    "plt.xlabel('Models')\n",
    "plt.ylabel('Accuracy')\n",
    "plt.ylim(0, 1)\n",
    "plt.show()\n",
    "\n"
   ]
  }
 ],
 "metadata": {
  "kernelspec": {
   "display_name": "Python 3 (ipykernel)",
   "language": "python",
   "name": "python3"
  },
  "language_info": {
   "codemirror_mode": {
    "name": "ipython",
    "version": 3
   },
   "file_extension": ".py",
   "mimetype": "text/x-python",
   "name": "python",
   "nbconvert_exporter": "python",
   "pygments_lexer": "ipython3",
   "version": "3.9.16"
  },
  "papermill": {
   "default_parameters": {},
   "duration": 67.997491,
   "end_time": "2023-02-25T09:17:08.023095",
   "environment_variables": {},
   "exception": null,
   "input_path": "__notebook__.ipynb",
   "output_path": "__notebook__.ipynb",
   "parameters": {},
   "start_time": "2023-02-25T09:16:00.025604",
   "version": "2.4.0"
  }
 },
 "nbformat": 4,
 "nbformat_minor": 5
}
